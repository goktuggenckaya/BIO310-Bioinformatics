{
  "nbformat": 4,
  "nbformat_minor": 0,
  "metadata": {
    "colab": {
      "name": "BIO310-Lab4-Göktuğ Gençkaya.ipynb",
      "provenance": []
    },
    "kernelspec": {
      "name": "python3",
      "display_name": "Python 3"
    },
    "language_info": {
      "name": "python"
    }
  },
  "cells": [
    {
      "cell_type": "code",
      "metadata": {
        "id": "wEMroqun1Ces"
      },
      "source": [
        "def getComposition(seq, k):\n",
        "  '''\n",
        "  seq is a string e.g. 'ATCGG'\n",
        "  k is an int e.g. k = 3\n",
        "  '''\n",
        "\n",
        "  k_mers = []\n",
        "  a=0\n",
        "  for i in range(len(seq)- k +1):\n",
        "    k_mers.append(seq[a:a+k])\n",
        "    a+=1\n",
        "  return k_mers"
      ],
      "execution_count": 9,
      "outputs": []
    },
    {
      "cell_type": "code",
      "metadata": {
        "colab": {
          "base_uri": "https://localhost:8080/"
        },
        "id": "_9hvrGeP3rBF",
        "outputId": "bb66977c-3209-40e6-b908-c42d3aceefe5"
      },
      "source": [
        "seq = \"TAATGCCATGGGATGTT\"\n",
        "getComposition(seq,3)"
      ],
      "execution_count": 16,
      "outputs": [
        {
          "output_type": "execute_result",
          "data": {
            "text/plain": [
              "['TAA',\n",
              " 'AAT',\n",
              " 'ATG',\n",
              " 'TGC',\n",
              " 'GCC',\n",
              " 'CCA',\n",
              " 'CAT',\n",
              " 'ATG',\n",
              " 'TGG',\n",
              " 'GGG',\n",
              " 'GGA',\n",
              " 'GAT',\n",
              " 'ATG',\n",
              " 'TGT',\n",
              " 'GTT']"
            ]
          },
          "metadata": {
            "tags": []
          },
          "execution_count": 16
        }
      ]
    },
    {
      "cell_type": "code",
      "metadata": {
        "id": "Cvh3GkSi1NSE"
      },
      "source": [
        "def DeBruijn(kmers):\n",
        "  '''\n",
        "  kmers is a list. \n",
        "  e.g. \n",
        "  kmers = ['GAGG','CAGG','GGGG','GGGA','CAGG','AGGG','GGAG']\n",
        "  '''\n",
        "  deBruijn = {}\n",
        "  for k_mer in kmers:\n",
        "    prefix = k_mer[:len(k_mer)-1]\n",
        "    suffix= k_mer[1:]\n",
        "    if prefix in deBruijn.keys():\n",
        "      deBruijn[prefix].append(suffix)\n",
        "    else:\n",
        "      deBruijn[prefix]= []\n",
        "      deBruijn[prefix].append(suffix)\n",
        "  return deBruijn"
      ],
      "execution_count": 10,
      "outputs": []
    },
    {
      "cell_type": "code",
      "metadata": {
        "colab": {
          "base_uri": "https://localhost:8080/"
        },
        "id": "p_7NON5y3Wsk",
        "outputId": "49b35dac-074d-4375-d883-eaee20dc51c7"
      },
      "source": [
        "seq = \"TAATGCCATGGGATGTT\"\n",
        "DeBruijn(getComposition(seq,3))"
      ],
      "execution_count": 15,
      "outputs": [
        {
          "output_type": "execute_result",
          "data": {
            "text/plain": [
              "{'AA': ['AT'],\n",
              " 'AT': ['TG', 'TG', 'TG'],\n",
              " 'CA': ['AT'],\n",
              " 'CC': ['CA'],\n",
              " 'GA': ['AT'],\n",
              " 'GC': ['CC'],\n",
              " 'GG': ['GG', 'GA'],\n",
              " 'GT': ['TT'],\n",
              " 'TA': ['AA'],\n",
              " 'TG': ['GC', 'GG', 'GT']}"
            ]
          },
          "metadata": {
            "tags": []
          },
          "execution_count": 15
        }
      ]
    },
    {
      "cell_type": "code",
      "metadata": {
        "id": "iFTTCodF1VAg"
      },
      "source": [
        "# function to print de bruijn graph\n",
        "def printDeBruijn(deBruijn):\n",
        "  '''\n",
        "  deBruijn is a dict of the deBruijn graph\n",
        "  e.g.\n",
        "  deBruijn = {'GAG': ['AGG'], 'CAG': ['AGG', 'AGG'], 'GGG': ['GGG', 'GGA'], 'AGG': ['GGG'], 'GGA': ['GAG']}\n",
        "  '''\n",
        "  for key, val in deBruijn.items():\n",
        "    print(key, '->', *val)\n",
        "\n"
      ],
      "execution_count": 11,
      "outputs": []
    },
    {
      "cell_type": "code",
      "metadata": {
        "id": "DxztI7CT1io1"
      },
      "source": [
        "getComposition('CAATCCAAC', 5)\n",
        "db = DeBruijn(['GAGG','CAGG','GGGG','GGGA','CAGG','AGGG','GGAG'])\n",
        "printDeBruijn(db)\n"
      ],
      "execution_count": null,
      "outputs": []
    },
    {
      "cell_type": "code",
      "metadata": {
        "colab": {
          "base_uri": "https://localhost:8080/"
        },
        "id": "pEX3JWPP1vsL",
        "outputId": "6d811158-3cb7-4715-954f-cd32f258e97b"
      },
      "source": [
        "#DeBruijn2(TAATGCCATGGGATGTT) \n",
        "#DeBruijn3(TAATGCCATGGGATGTT)\n",
        "#DeBruijn4(TAATGCCATGGGATGTT)\n",
        "seq = \"TAATGCCATGGGATGTT\"\n",
        "print(\"DeBruijn graph for 2-mers:\")\n",
        "printDeBruijn(DeBruijn(getComposition(seq,2)))\n",
        "print(\"DeBruijn graph for 3-mers:\")\n",
        "printDeBruijn(DeBruijn(getComposition(seq,3)))\n",
        "print(\"DeBruijn graph for 4-mers:\")\n",
        "printDeBruijn(DeBruijn(getComposition(seq,4)))\n"
      ],
      "execution_count": 17,
      "outputs": [
        {
          "output_type": "stream",
          "text": [
            "DeBruijn graph for 2-mers:\n",
            "T -> A G G G T\n",
            "A -> A T T T\n",
            "G -> C G G A T\n",
            "C -> C A\n",
            "DeBruijn graph for 3-mers:\n",
            "TA -> AA\n",
            "AA -> AT\n",
            "AT -> TG TG TG\n",
            "TG -> GC GG GT\n",
            "GC -> CC\n",
            "CC -> CA\n",
            "CA -> AT\n",
            "GG -> GG GA\n",
            "GA -> AT\n",
            "GT -> TT\n",
            "DeBruijn graph for 4-mers:\n",
            "TAA -> AAT\n",
            "AAT -> ATG\n",
            "ATG -> TGC TGG TGT\n",
            "TGC -> GCC\n",
            "GCC -> CCA\n",
            "CCA -> CAT\n",
            "CAT -> ATG\n",
            "TGG -> GGG\n",
            "GGG -> GGA\n",
            "GGA -> GAT\n",
            "GAT -> ATG\n",
            "TGT -> GTT\n"
          ],
          "name": "stdout"
        }
      ]
    },
    {
      "cell_type": "code",
      "metadata": {
        "id": "zmXj0OAn4tST"
      },
      "source": [
        "# 3rd Question\n",
        "# We can observe that a prefix links to smaller number of suffixes as the k increases. This means that for bigger k values, there are less possible sequences\n",
        "# that the words (substrings) can compose. For smaller values of k there are too much possible sequences that are not equivalent to text itself in the string \n",
        "# construction problem."
      ],
      "execution_count": null,
      "outputs": []
    },
    {
      "cell_type": "code",
      "metadata": {
        "colab": {
          "base_uri": "https://localhost:8080/"
        },
        "id": "bnSB4WLw7KVe",
        "outputId": "46e443f4-e122-4c04-a452-1ebcc0b8657f"
      },
      "source": [
        "seq2 = \"TAATGCCATGGGATGTT\"\n",
        "seq3 = \"TAATGGGATGCCATGTT\"\n",
        "print(\"DeBruijn graph for sequence\", seq2)\n",
        "printDeBruijn(DeBruijn(getComposition(seq2,3)))\n",
        "print(\"DeBruijn graph for sequence\", seq3)\n",
        "printDeBruijn(DeBruijn(getComposition(seq3,3)))\n"
      ],
      "execution_count": 19,
      "outputs": [
        {
          "output_type": "stream",
          "text": [
            "DeBruijn graph for sequence TAATGCCATGGGATGTT\n",
            "TA -> AA\n",
            "AA -> AT\n",
            "AT -> TG TG TG\n",
            "TG -> GC GG GT\n",
            "GC -> CC\n",
            "CC -> CA\n",
            "CA -> AT\n",
            "GG -> GG GA\n",
            "GA -> AT\n",
            "GT -> TT\n",
            "DeBruijn graph for sequence TAATGGGATGCCATGTT\n",
            "TA -> AA\n",
            "AA -> AT\n",
            "AT -> TG TG TG\n",
            "TG -> GG GC GT\n",
            "GG -> GG GA\n",
            "GA -> AT\n",
            "GC -> CC\n",
            "CC -> CA\n",
            "CA -> AT\n",
            "GT -> TT\n"
          ],
          "name": "stdout"
        }
      ]
    },
    {
      "cell_type": "code",
      "metadata": {
        "id": "OsoCsjaF6pwZ"
      },
      "source": [
        "# 4th Question \n",
        "# We can see that De Bruijn Graphs for the sequence TAATGCCATGGGATGTT and TAATGGGATGCCATGTT sequence  are completely same."
      ],
      "execution_count": null,
      "outputs": []
    }
  ]
}